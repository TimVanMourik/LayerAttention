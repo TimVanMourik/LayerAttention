{
 "cells": [
  {
   "cell_type": "code",
   "execution_count": 1,
   "metadata": {},
   "outputs": [],
   "source": [
    "import pandas as pd\n",
    "import ptitprince as pt\n",
    "import numpy as np\n",
    "import scipy.io\n",
    "import scipy.stats as stats\n",
    "import os\n",
    "from sklearn.linear_model import LinearRegression\n",
    "import matplotlib.pyplot as plt\n",
    "import numpy.matlib\n",
    "import seaborn as sns\n",
    "from statsmodels.formula.api import ols\n",
    "import statsmodels.api as sm\n",
    "from statsmodels.stats.anova import AnovaRM"
   ]
  },
  {
   "cell_type": "code",
   "execution_count": 2,
   "metadata": {},
   "outputs": [],
   "source": [
    "selected_subjects = range(8,27)\n",
    "excluded_subjects = [13, 14]\n",
    "selected_subjects = list(set(selected_subjects).symmetric_difference(excluded_subjects))\n",
    "number_of_subjects = len(selected_subjects)"
   ]
  },
  {
   "cell_type": "code",
   "execution_count": 3,
   "metadata": {},
   "outputs": [],
   "source": [
    "root_directory = '../data'\n",
    "hemispheres = ['lh', 'rh']\n",
    "regressors_of_interest = [\n",
    "    'Stimulus_{Right,On}',\n",
    "    'Stimulus_{Left,On}',\n",
    "    'Stimulus_{Right,Off}',\n",
    "    'Stimulus_{Left,Off}'\n",
    "];"
   ]
  },
  {
   "cell_type": "code",
   "execution_count": 4,
   "metadata": {},
   "outputs": [],
   "source": [
    "def make_figure(region):\n",
    "    results = pd.DataFrame(columns=['Activation', 'Subject', 'Stimulus', 'Attention', 'Hemisphere', 'Area'])\n",
    "\n",
    "    betas = {}\n",
    "    betas['rh'] = np.zeros((number_of_subjects, len(regressors_of_interest)))\n",
    "    betas['lh'] = np.zeros((number_of_subjects, len(regressors_of_interest)))\n",
    "    for subject in range(len(selected_subjects)):\n",
    "        for hemisphere in hemispheres:\n",
    "            design_matrix = np.empty((0,0))\n",
    "            regressors = []\n",
    "            time_course = []\n",
    "            for chunk in range(1,4):\n",
    "                subject_directory = '{:s}/SubjectData/Subject{:02d}/Set{:d}'.format(\n",
    "                    root_directory, selected_subjects[subject], chunk\n",
    "                )\n",
    "                design_file = '{:s}/DesignMatrix/DesignStimulus.mat'.format(subject_directory);\n",
    "                if not os.path.isfile(design_file):\n",
    "                    continue\n",
    "\n",
    "                mat = scipy.io.loadmat(design_file)\n",
    "                d = mat['design']['DesignMatrix'][0,0]\n",
    "                r = mat['design']['RegressorLabel'][0,0]\n",
    "                design_matrix = np.concatenate((\n",
    "                    np.concatenate((design_matrix, np.zeros((d.shape[0], design_matrix.shape[1]))), axis=0),\n",
    "                    np.concatenate((np.zeros((design_matrix.shape[0], d.shape[1])), d), axis=0)),\n",
    "                axis=1)\n",
    "                regressors += [i[0][0] for i in np.transpose(r)]\n",
    "                design_matrix = pd.DataFrame(data=design_matrix, columns=regressors)\n",
    "\n",
    "                timecourse_file ='{:s}/TimeCourses/{:s}.{:s}.mat'.format(\n",
    "                    subject_directory, hemisphere, region\n",
    "                )\n",
    "                mat = scipy.io.loadmat(timecourse_file)\n",
    "                time_course += [i[0] for i in mat['timeCourses']]\n",
    "\n",
    "            time_course = np.concatenate((time_course), axis=1)\n",
    "            model = LinearRegression(fit_intercept=False)\n",
    "            model.fit(design_matrix, np.transpose(time_course))\n",
    "            b = pd.DataFrame(model.coef_, columns=regressors)\n",
    "\n",
    "            for regressor in range(len(regressors_of_interest)): \n",
    "                percent_signal_change = np.divide(b[regressors_of_interest[regressor]], b['Constant'])\n",
    "                mean_over_runs = np.mean(percent_signal_change, 1)[0]\n",
    "                betas[hemisphere][subject,regressor] += mean_over_runs\n",
    "\n",
    "\n",
    "                if regressor == 0: # 'Stimulus_{Right,On}':\n",
    "                    stimulus = 'On'\n",
    "                    if hemisphere == 'lh':\n",
    "                        attention = 'On'\n",
    "                    else:\n",
    "                        attention = 'Off'\n",
    "                elif regressor == 1: # 'Stimulus_{Left,On}':\n",
    "                    stimulus = 'On'\n",
    "                    if hemisphere == 'lh':\n",
    "                        attention = 'Off'\n",
    "                    else:\n",
    "                        attention = 'On'\n",
    "                elif regressor == 2: #'Stimulus_{Right,Off}':\n",
    "                    stimulus = 'Off'\n",
    "                    if hemisphere == 'lh':\n",
    "                        attention = 'On'\n",
    "                    else:\n",
    "                        attention = 'Off'\n",
    "                elif regressor == 3: #'Stimulus_{Left,Off}':\n",
    "                    stimulus = 'Off'\n",
    "                    if hemisphere == 'lh':\n",
    "                        attention = 'Off'\n",
    "                    else:\n",
    "                        attention = 'On'\n",
    "                \n",
    "                results = results.append({'Activation': betas[hemisphere][subject,regressor], 'Subject': subject, 'Stimulus': stimulus, 'Attention': attention, 'Hemisphere': hemisphere, 'Area': region}, ignore_index=True)\n",
    "        \n",
    "    return results"
   ]
  },
  {
   "cell_type": "code",
   "execution_count": 5,
   "metadata": {},
   "outputs": [
    {
     "data": {
      "text/html": [
       "<table class=\"simpletable\">\n",
       "<tr>\n",
       "                   <td></td>                   <th>F Value</th> <th>Num DF</th> <th>Den DF</th>  <th>Pr > F</th>\n",
       "</tr>\n",
       "<tr>\n",
       "  <th>Stimulus</th>                           <td>335.5832</td> <td>1.0000</td> <td>16.0000</td> <td>0.0000</td>\n",
       "</tr>\n",
       "<tr>\n",
       "  <th>Attention</th>                          <td>121.2697</td> <td>1.0000</td> <td>16.0000</td> <td>0.0000</td>\n",
       "</tr>\n",
       "<tr>\n",
       "  <th>Hemisphere</th>                          <td>0.0883</td>  <td>1.0000</td> <td>16.0000</td> <td>0.7702</td>\n",
       "</tr>\n",
       "<tr>\n",
       "  <th>Area</th>                                <td>35.9379</td> <td>2.0000</td> <td>32.0000</td> <td>0.0000</td>\n",
       "</tr>\n",
       "<tr>\n",
       "  <th>Stimulus:Attention</th>                  <td>6.6303</td>  <td>1.0000</td> <td>16.0000</td> <td>0.0204</td>\n",
       "</tr>\n",
       "<tr>\n",
       "  <th>Stimulus:Hemisphere</th>                 <td>4.4755</td>  <td>1.0000</td> <td>16.0000</td> <td>0.0504</td>\n",
       "</tr>\n",
       "<tr>\n",
       "  <th>Attention:Hemisphere</th>                <td>0.6690</td>  <td>1.0000</td> <td>16.0000</td> <td>0.4254</td>\n",
       "</tr>\n",
       "<tr>\n",
       "  <th>Stimulus:Area</th>                       <td>41.2176</td> <td>2.0000</td> <td>32.0000</td> <td>0.0000</td>\n",
       "</tr>\n",
       "<tr>\n",
       "  <th>Attention:Area</th>                      <td>0.7382</td>  <td>2.0000</td> <td>32.0000</td> <td>0.4859</td>\n",
       "</tr>\n",
       "<tr>\n",
       "  <th>Hemisphere:Area</th>                     <td>1.0089</td>  <td>2.0000</td> <td>32.0000</td> <td>0.3759</td>\n",
       "</tr>\n",
       "<tr>\n",
       "  <th>Stimulus:Attention:Hemisphere</th>       <td>0.8080</td>  <td>1.0000</td> <td>16.0000</td> <td>0.3820</td>\n",
       "</tr>\n",
       "<tr>\n",
       "  <th>Stimulus:Attention:Area</th>             <td>0.3240</td>  <td>2.0000</td> <td>32.0000</td> <td>0.7256</td>\n",
       "</tr>\n",
       "<tr>\n",
       "  <th>Stimulus:Hemisphere:Area</th>            <td>0.1326</td>  <td>2.0000</td> <td>32.0000</td> <td>0.8763</td>\n",
       "</tr>\n",
       "<tr>\n",
       "  <th>Attention:Hemisphere:Area</th>           <td>0.4636</td>  <td>2.0000</td> <td>32.0000</td> <td>0.6332</td>\n",
       "</tr>\n",
       "<tr>\n",
       "  <th>Stimulus:Attention:Hemisphere:Area</th>  <td>0.2027</td>  <td>2.0000</td> <td>32.0000</td> <td>0.8176</td>\n",
       "</tr>\n",
       "</table>"
      ],
      "text/plain": [
       "<class 'statsmodels.iolib.summary2.Summary'>\n",
       "\"\"\"\n",
       "                              Anova\n",
       "=================================================================\n",
       "                                   F Value  Num DF  Den DF Pr > F\n",
       "-----------------------------------------------------------------\n",
       "Stimulus                           335.5832 1.0000 16.0000 0.0000\n",
       "Attention                          121.2697 1.0000 16.0000 0.0000\n",
       "Hemisphere                           0.0883 1.0000 16.0000 0.7702\n",
       "Area                                35.9379 2.0000 32.0000 0.0000\n",
       "Stimulus:Attention                   6.6303 1.0000 16.0000 0.0204\n",
       "Stimulus:Hemisphere                  4.4755 1.0000 16.0000 0.0504\n",
       "Attention:Hemisphere                 0.6690 1.0000 16.0000 0.4254\n",
       "Stimulus:Area                       41.2176 2.0000 32.0000 0.0000\n",
       "Attention:Area                       0.7382 2.0000 32.0000 0.4859\n",
       "Hemisphere:Area                      1.0089 2.0000 32.0000 0.3759\n",
       "Stimulus:Attention:Hemisphere        0.8080 1.0000 16.0000 0.3820\n",
       "Stimulus:Attention:Area              0.3240 2.0000 32.0000 0.7256\n",
       "Stimulus:Hemisphere:Area             0.1326 2.0000 32.0000 0.8763\n",
       "Attention:Hemisphere:Area            0.4636 2.0000 32.0000 0.6332\n",
       "Stimulus:Attention:Hemisphere:Area   0.2027 2.0000 32.0000 0.8176\n",
       "=================================================================\n",
       "\n",
       "\"\"\""
      ]
     },
     "execution_count": 5,
     "metadata": {},
     "output_type": "execute_result"
    }
   ],
   "source": [
    "regions = ['V1', 'V2', 'V3']\n",
    "\n",
    "group_results = pd.DataFrame()\n",
    "betas = pd.DataFrame(columns=['Activation', 'Subject', 'Stimulus', 'Attention', 'Hemisphere', 'Area'])\n",
    "for region in regions:\n",
    "    a = make_figure(region)\n",
    "    betas = betas.append(a)\n",
    "\n",
    "aov_table = AnovaRM(betas, 'Activation', 'Subject', within=['Stimulus', 'Attention', 'Hemisphere', 'Area'])\n",
    "res = aov_table.fit()\n",
    "res.summary()"
   ]
  },
  {
   "cell_type": "code",
   "execution_count": 6,
   "metadata": {},
   "outputs": [],
   "source": [
    "betas[\"Task\"] = betas[\"Stimulus\"] + betas[\"Attention\"]\n",
    "# group by everything but hemisphere and take the the mean over that dimension\n",
    "betas = betas.groupby(['Subject', 'Stimulus', 'Attention', 'Task', 'Area']).mean().reset_index()"
   ]
  },
  {
   "cell_type": "code",
   "execution_count": 7,
   "metadata": {},
   "outputs": [
    {
     "data": {
      "image/png": "[encoded data removed]",
      "text/plain": [
       "<Figure size 432x288 with 1 Axes>"
      ]
     },
     "metadata": {
      "needs_background": "light"
     },
     "output_type": "display_data"
    }
   ],
   "source": [
    "color_palletes = [\"#0066ff\", \"#ff4000\", \"#0066ff\", \"#ff4000\"]\n",
    "dx   = \"Area\"\n",
    "dy   = \"Activation\"\n",
    "dhue = \"Task\"\n",
    "pal  = sns.color_palette(color_palletes)\n",
    "\n",
    "ax = pt.RainCloud(\n",
    "    data       = betas, \n",
    "    x          = dx, \n",
    "    y          = dy,\n",
    "    hue        = dhue, \n",
    "    palette    = pal, \n",
    "    bw         = .4, \n",
    "    width_viol = .5,\n",
    "    figsize    = (12,5), \n",
    "    orient     = 'v' , \n",
    "    alpha      = .6, \n",
    "    dodge      = True, \n",
    "    pointplot  = True, \n",
    "    move       = 0.1    \n",
    ")"
   ]
  },
  {
   "cell_type": "code",
   "execution_count": 8,
   "metadata": {},
   "outputs": [
    {
     "data": {
      "text/plain": [
       "Ttest_relResult(statistic=9.799191570269151, pvalue=3.639899805732033e-08)"
      ]
     },
     "execution_count": 8,
     "metadata": {},
     "output_type": "execute_result"
    }
   ],
   "source": [
    "task_effects = betas.groupby(['Task', 'Subject']).mean()\n",
    "stats.ttest_rel(task_effects.query(\"Task == 'OffOn'\")['Activation'], \n",
    "                       task_effects.query(\"Task == 'OffOff'\")['Activation'])"
   ]
  },
  {
   "cell_type": "markdown",
   "metadata": {},
   "source": [
    "### Negative attention effect for condition 'No stimulus, Unattended'"
   ]
  },
  {
   "cell_type": "code",
   "execution_count": 9,
   "metadata": {},
   "outputs": [
    {
     "data": {
      "text/plain": [
       "Ttest_1sampResult(statistic=-3.1216471655764466, pvalue=0.006574770807035019)"
      ]
     },
     "execution_count": 9,
     "metadata": {},
     "output_type": "execute_result"
    }
   ],
   "source": [
    "nostim_noatt_effect = betas.query(f\"Task == 'OffOff'\").groupby(['Subject']).mean()\n",
    "stats.ttest_1samp(nostim_noatt_effect['Activation'], 0) "
   ]
  },
  {
   "cell_type": "markdown",
   "metadata": {},
   "source": [
    "### Effect sizes per region:"
   ]
  },
  {
   "cell_type": "code",
   "execution_count": 10,
   "metadata": {},
   "outputs": [
    {
     "data": {
      "text/html": [
       "<style  type=\"text/css\" >\n",
       "</style><table id=\"T_fec3597e_9f6b_11ea_8517_38f9d30f4779\" ><thead>    <tr>        <th class=\"blank level0\" ></th>        <th class=\"col_heading level0 col0\" >Region</th>        <th class=\"col_heading level0 col1\" >Attention</th>        <th class=\"col_heading level0 col2\" >Stimulus</th>        <th class=\"col_heading level0 col3\" >AMI</th>    </tr></thead><tbody>\n",
       "                <tr>\n",
       "                        <th id=\"T_fec3597e_9f6b_11ea_8517_38f9d30f4779level0_row0\" class=\"row_heading level0 row0\" >0</th>\n",
       "                        <td id=\"T_fec3597e_9f6b_11ea_8517_38f9d30f4779row0_col0\" class=\"data row0 col0\" >V1</td>\n",
       "                        <td id=\"T_fec3597e_9f6b_11ea_8517_38f9d30f4779row0_col1\" class=\"data row0 col1\" >1.00%</td>\n",
       "                        <td id=\"T_fec3597e_9f6b_11ea_8517_38f9d30f4779row0_col2\" class=\"data row0 col2\" >4.65%</td>\n",
       "                        <td id=\"T_fec3597e_9f6b_11ea_8517_38f9d30f4779row0_col3\" class=\"data row0 col3\" >0.177041</td>\n",
       "            </tr>\n",
       "            <tr>\n",
       "                        <th id=\"T_fec3597e_9f6b_11ea_8517_38f9d30f4779level0_row1\" class=\"row_heading level0 row1\" >1</th>\n",
       "                        <td id=\"T_fec3597e_9f6b_11ea_8517_38f9d30f4779row1_col0\" class=\"data row1 col0\" >V2</td>\n",
       "                        <td id=\"T_fec3597e_9f6b_11ea_8517_38f9d30f4779row1_col1\" class=\"data row1 col1\" >1.06%</td>\n",
       "                        <td id=\"T_fec3597e_9f6b_11ea_8517_38f9d30f4779row1_col2\" class=\"data row1 col2\" >3.45%</td>\n",
       "                        <td id=\"T_fec3597e_9f6b_11ea_8517_38f9d30f4779row1_col3\" class=\"data row1 col3\" >0.235203</td>\n",
       "            </tr>\n",
       "            <tr>\n",
       "                        <th id=\"T_fec3597e_9f6b_11ea_8517_38f9d30f4779level0_row2\" class=\"row_heading level0 row2\" >2</th>\n",
       "                        <td id=\"T_fec3597e_9f6b_11ea_8517_38f9d30f4779row2_col0\" class=\"data row2 col0\" >V3</td>\n",
       "                        <td id=\"T_fec3597e_9f6b_11ea_8517_38f9d30f4779row2_col1\" class=\"data row2 col1\" >1.48%</td>\n",
       "                        <td id=\"T_fec3597e_9f6b_11ea_8517_38f9d30f4779row2_col2\" class=\"data row2 col2\" >3.72%</td>\n",
       "                        <td id=\"T_fec3597e_9f6b_11ea_8517_38f9d30f4779row2_col3\" class=\"data row2 col3\" >0.284507</td>\n",
       "            </tr>\n",
       "    </tbody></table>"
      ],
      "text/plain": [
       "<pandas.io.formats.style.Styler at 0x1a27830810>"
      ]
     },
     "execution_count": 10,
     "metadata": {},
     "output_type": "execute_result"
    }
   ],
   "source": [
    "def as_percent(value):\n",
    "    return f\"{value}test\"\n",
    "    \n",
    "effects = pd.DataFrame(columns=['Region', 'Attention', 'Stimulus', 'AMI'])\n",
    "for region in regions:\n",
    "    att = betas.query(f\"Area == '{region}'\").groupby(['Subject', 'Attention']).mean().reset_index()\n",
    "    att_effect = att.query(f\"Attention == 'On'\")[\"Activation\"][1] - att.query(f\"Attention == 'Off'\")[\"Activation\"][0]\n",
    "    \n",
    "    stim = betas.query(f\"Area == '{region}'\").groupby(['Subject','Stimulus']).mean().reset_index()\n",
    "    stim_effect = stim.query(f\"Stimulus == 'On'\")[\"Activation\"][1] - stim.query(f\"Stimulus == 'Off'\")[\"Activation\"][0]\n",
    "    \n",
    "    effects.loc[len(effects)] = [region, att_effect, stim_effect, att_effect / (att_effect + stim_effect)]\n",
    "\n",
    "effects.style.format('{:.2%}', subset=[\"Attention\", \"Stimulus\"]) \n"
   ]
  },
  {
   "cell_type": "markdown",
   "metadata": {},
   "source": [
    "### Attentional Modulation Index (AMI) tests"
   ]
  },
  {
   "cell_type": "code",
   "execution_count": 11,
   "metadata": {},
   "outputs": [],
   "source": [
    "ami = pd.DataFrame(columns=['Area', 'AMI', 'Subject'])\n",
    "for region in regions:\n",
    "    att = betas.query(f\"Area == '{region}'\").groupby(['Subject', 'Attention']).mean().reset_index()\n",
    "    stim = betas.query(f\"Area == '{region}'\").groupby(['Subject','Stimulus']).mean().reset_index()\n",
    "    att_effect = att.query(f\"Attention == 'On'\")[\"Activation\"].values - att.query(f\"Attention == 'Off'\")[\"Activation\"].values\n",
    "    stim_effect = stim.query(f\"Stimulus == 'On'\")[\"Activation\"].values - stim.query(f\"Stimulus == 'Off'\")[\"Activation\"].values\n",
    "    ami_scores = att_effect / (att_effect + stim_effect)\n",
    "    for i in range(len(ami_scores)):\n",
    "        ami = ami.append({'Area': region, 'AMI': ami_scores[i], 'Subject': i}, ignore_index=True)"
   ]
  },
  {
   "cell_type": "code",
   "execution_count": 12,
   "metadata": {},
   "outputs": [
    {
     "data": {
      "text/html": [
       "<div>\n",
       "<style scoped>\n",
       "    .dataframe tbody tr th:only-of-type {\n",
       "        vertical-align: middle;\n",
       "    }\n",
       "\n",
       "    .dataframe tbody tr th {\n",
       "        vertical-align: top;\n",
       "    }\n",
       "\n",
       "    .dataframe thead th {\n",
       "        text-align: right;\n",
       "    }\n",
       "</style>\n",
       "<table border=\"1\" class=\"dataframe\">\n",
       "  <thead>\n",
       "    <tr style=\"text-align: right;\">\n",
       "      <th></th>\n",
       "      <th>AMI</th>\n",
       "    </tr>\n",
       "    <tr>\n",
       "      <th>Area</th>\n",
       "      <th></th>\n",
       "    </tr>\n",
       "  </thead>\n",
       "  <tbody>\n",
       "    <tr>\n",
       "      <th>V1</th>\n",
       "      <td>0.182045</td>\n",
       "    </tr>\n",
       "    <tr>\n",
       "      <th>V2</th>\n",
       "      <td>0.243989</td>\n",
       "    </tr>\n",
       "    <tr>\n",
       "      <th>V3</th>\n",
       "      <td>0.245820</td>\n",
       "    </tr>\n",
       "  </tbody>\n",
       "</table>\n",
       "</div>"
      ],
      "text/plain": [
       "           AMI\n",
       "Area          \n",
       "V1    0.182045\n",
       "V2    0.243989\n",
       "V3    0.245820"
      ]
     },
     "execution_count": 12,
     "metadata": {},
     "output_type": "execute_result"
    }
   ],
   "source": [
    "ami.groupby(['Area']).mean()"
   ]
  },
  {
   "cell_type": "code",
   "execution_count": 13,
   "metadata": {},
   "outputs": [
    {
     "data": {
      "text/html": [
       "<div>\n",
       "<style scoped>\n",
       "    .dataframe tbody tr th:only-of-type {\n",
       "        vertical-align: middle;\n",
       "    }\n",
       "\n",
       "    .dataframe tbody tr th {\n",
       "        vertical-align: top;\n",
       "    }\n",
       "\n",
       "    .dataframe thead th {\n",
       "        text-align: right;\n",
       "    }\n",
       "</style>\n",
       "<table border=\"1\" class=\"dataframe\">\n",
       "  <thead>\n",
       "    <tr style=\"text-align: right;\">\n",
       "      <th></th>\n",
       "      <th>AMI</th>\n",
       "    </tr>\n",
       "    <tr>\n",
       "      <th>Area</th>\n",
       "      <th></th>\n",
       "    </tr>\n",
       "  </thead>\n",
       "  <tbody>\n",
       "    <tr>\n",
       "      <th>V1</th>\n",
       "      <td>0.048999</td>\n",
       "    </tr>\n",
       "    <tr>\n",
       "      <th>V2</th>\n",
       "      <td>0.071656</td>\n",
       "    </tr>\n",
       "    <tr>\n",
       "      <th>V3</th>\n",
       "      <td>0.092248</td>\n",
       "    </tr>\n",
       "  </tbody>\n",
       "</table>\n",
       "</div>"
      ],
      "text/plain": [
       "           AMI\n",
       "Area          \n",
       "V1    0.048999\n",
       "V2    0.071656\n",
       "V3    0.092248"
      ]
     },
     "execution_count": 13,
     "metadata": {},
     "output_type": "execute_result"
    }
   ],
   "source": [
    "ami.groupby(['Area']).std()"
   ]
  },
  {
   "cell_type": "code",
   "execution_count": 14,
   "metadata": {},
   "outputs": [
    {
     "data": {
      "text/html": [
       "<div>\n",
       "<style scoped>\n",
       "    .dataframe tbody tr th:only-of-type {\n",
       "        vertical-align: middle;\n",
       "    }\n",
       "\n",
       "    .dataframe tbody tr th {\n",
       "        vertical-align: top;\n",
       "    }\n",
       "\n",
       "    .dataframe thead th {\n",
       "        text-align: right;\n",
       "    }\n",
       "</style>\n",
       "<table border=\"1\" class=\"dataframe\">\n",
       "  <thead>\n",
       "    <tr style=\"text-align: right;\">\n",
       "      <th></th>\n",
       "      <th>F Value</th>\n",
       "      <th>Num DF</th>\n",
       "      <th>Den DF</th>\n",
       "      <th>Pr &gt; F</th>\n",
       "    </tr>\n",
       "  </thead>\n",
       "  <tbody>\n",
       "    <tr>\n",
       "      <th>Area</th>\n",
       "      <td>10.528518</td>\n",
       "      <td>2.0</td>\n",
       "      <td>32.0</td>\n",
       "      <td>0.000307</td>\n",
       "    </tr>\n",
       "  </tbody>\n",
       "</table>\n",
       "</div>"
      ],
      "text/plain": [
       "        F Value  Num DF  Den DF    Pr > F\n",
       "Area  10.528518     2.0    32.0  0.000307"
      ]
     },
     "execution_count": 14,
     "metadata": {},
     "output_type": "execute_result"
    }
   ],
   "source": [
    "aov_table = AnovaRM(ami, 'AMI', 'Subject', within=['Area'])\n",
    "res = aov_table.fit()\n",
    "pd.DataFrame(res.summary().tables[0])"
   ]
  },
  {
   "cell_type": "code",
   "execution_count": 15,
   "metadata": {},
   "outputs": [
    {
     "data": {
      "text/html": [
       "<div>\n",
       "<style scoped>\n",
       "    .dataframe tbody tr th:only-of-type {\n",
       "        vertical-align: middle;\n",
       "    }\n",
       "\n",
       "    .dataframe tbody tr th {\n",
       "        vertical-align: top;\n",
       "    }\n",
       "\n",
       "    .dataframe thead th {\n",
       "        text-align: right;\n",
       "    }\n",
       "</style>\n",
       "<table border=\"1\" class=\"dataframe\">\n",
       "  <thead>\n",
       "    <tr style=\"text-align: right;\">\n",
       "      <th></th>\n",
       "      <th>Areas</th>\n",
       "      <th>tvalue</th>\n",
       "      <th>pvalue</th>\n",
       "    </tr>\n",
       "  </thead>\n",
       "  <tbody>\n",
       "    <tr>\n",
       "      <th>0</th>\n",
       "      <td>V1-V2</td>\n",
       "      <td>-4.693548</td>\n",
       "      <td>0.000244</td>\n",
       "    </tr>\n",
       "    <tr>\n",
       "      <th>1</th>\n",
       "      <td>V1-V3</td>\n",
       "      <td>-3.173822</td>\n",
       "      <td>0.005893</td>\n",
       "    </tr>\n",
       "    <tr>\n",
       "      <th>2</th>\n",
       "      <td>V2-V3</td>\n",
       "      <td>-0.139178</td>\n",
       "      <td>0.891046</td>\n",
       "    </tr>\n",
       "  </tbody>\n",
       "</table>\n",
       "</div>"
      ],
      "text/plain": [
       "   Areas    tvalue    pvalue\n",
       "0  V1-V2 -4.693548  0.000244\n",
       "1  V1-V3 -3.173822  0.005893\n",
       "2  V2-V3 -0.139178  0.891046"
      ]
     },
     "execution_count": 15,
     "metadata": {},
     "output_type": "execute_result"
    }
   ],
   "source": [
    "ami_diff = pd.DataFrame(columns=['Areas', 'tvalue', 'pvalue'])\n",
    "test = stats.ttest_rel(ami.query(\"Area == 'V1'\")['AMI'], ami.query(\"Area == 'V2'\")['AMI'])\n",
    "ami_diff.loc[len(ami_diff)] = {'Areas': 'V1-V2', 'tvalue': test.statistic, 'pvalue': test.pvalue}\n",
    "test = stats.ttest_rel(ami.query(\"Area == 'V1'\")['AMI'], ami.query(\"Area == 'V3'\")['AMI'])\n",
    "ami_diff.loc[len(ami_diff)] = {'Areas': 'V1-V3', 'tvalue': test.statistic, 'pvalue': test.pvalue}\n",
    "test = stats.ttest_rel(ami.query(\"Area == 'V2'\")['AMI'], ami.query(\"Area == 'V3'\")['AMI'])\n",
    "ami_diff.loc[len(ami_diff)] = {'Areas': 'V2-V3', 'tvalue': test.statistic, 'pvalue': test.pvalue}\n",
    "ami_diff"
   ]
  }
 ],
 "metadata": {
  "kernelspec": {
   "display_name": "Python 3",
   "language": "python",
   "name": "python3"
  },
  "language_info": {
   "codemirror_mode": {
    "name": "ipython",
    "version": 3
   },
   "file_extension": ".py",
   "mimetype": "text/x-python",
   "name": "python",
   "nbconvert_exporter": "python",
   "pygments_lexer": "ipython3",
   "version": "3.7.6"
  }
 },
 "nbformat": 4,
 "nbformat_minor": 2
}
